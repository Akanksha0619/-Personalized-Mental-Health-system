{
 "cells": [
  {
   "cell_type": "code",
   "execution_count": 1,
   "id": "e2735dbe",
   "metadata": {},
   "outputs": [],
   "source": [
    "import pandas as pd\n",
    "import numpy as np\n",
    "import nltk\n",
    "from sklearn.feature_extraction.text import TfidfVectorizer\n",
    "from sklearn.model_selection import train_test_split\n",
    "from sklearn.ensemble import RandomForestClassifier\n",
    "from sklearn.metrics import classification_report\n",
    "from sklearn.pipeline import make_pipeline\n",
    "import re"
   ]
  },
  {
   "cell_type": "code",
   "execution_count": 2,
   "id": "8883ab5b",
   "metadata": {},
   "outputs": [],
   "source": [
    "# Import stopwords\n",
    "from nltk.corpus import stopwords\n",
    "STOPWORDS = set(stopwords.words('english'))"
   ]
  },
  {
   "cell_type": "code",
   "execution_count": 3,
   "id": "56556f3a",
   "metadata": {},
   "outputs": [],
   "source": [
    "# Define a function to clean the text\n",
    "def clean_text(text):\n",
    "    text = text.lower()  # Convert to lowercase\n",
    "    text = re.sub(r'\\W+', ' ', text)  # Remove all non-word characters\n",
    "    text = ' '.join(word for word in text.split() if word not in STOPWORDS)  # Remove stopwords\n",
    "    return text"
   ]
  },
  {
   "cell_type": "code",
   "execution_count": 4,
   "id": "3bb248fb",
   "metadata": {},
   "outputs": [],
   "source": [
    "# Load the dataset\n",
    "df = pd.read_csv('mental_health.csv')"
   ]
  },
  {
   "cell_type": "code",
   "execution_count": 5,
   "id": "e96b512f",
   "metadata": {},
   "outputs": [],
   "source": [
    "# Preprocess the data\n",
    "df['Problem'] = df['Problem'].apply(clean_text)\n",
    "df['Solution'] = df['Solution'].apply(clean_text)\n",
    "df['Symptoms'] = df['Symptoms'].apply(clean_text)"
   ]
  },
  {
   "cell_type": "code",
   "execution_count": 6,
   "id": "c35e3e2b",
   "metadata": {},
   "outputs": [],
   "source": [
    "# Combine symptoms and solutions into one column for classification\n",
    "df['combined'] = df['Symptoms'] + ' | ' + df['Solution']"
   ]
  },
  {
   "cell_type": "code",
   "execution_count": 7,
   "id": "01091994",
   "metadata": {},
   "outputs": [],
   "source": [
    "# Split the data into training and test sets\n",
    "X = df['Problem']\n",
    "y = df['combined']\n",
    "X_train, X_test, y_train, y_test = train_test_split(X, y, test_size=0.2, random_state=42)"
   ]
  },
  {
   "cell_type": "code",
   "execution_count": 8,
   "id": "6582ced2",
   "metadata": {},
   "outputs": [],
   "source": [
    "# Create a pipeline with a TfidfVectorizer and a RandomForestClassifier\n",
    "pipeline = make_pipeline(TfidfVectorizer(), RandomForestClassifier(random_state=42))"
   ]
  },
  {
   "cell_type": "code",
   "execution_count": 9,
   "id": "36607572",
   "metadata": {},
   "outputs": [
    {
     "data": {
      "text/html": [
       "<style>#sk-container-id-1 {color: black;}#sk-container-id-1 pre{padding: 0;}#sk-container-id-1 div.sk-toggleable {background-color: white;}#sk-container-id-1 label.sk-toggleable__label {cursor: pointer;display: block;width: 100%;margin-bottom: 0;padding: 0.3em;box-sizing: border-box;text-align: center;}#sk-container-id-1 label.sk-toggleable__label-arrow:before {content: \"▸\";float: left;margin-right: 0.25em;color: #696969;}#sk-container-id-1 label.sk-toggleable__label-arrow:hover:before {color: black;}#sk-container-id-1 div.sk-estimator:hover label.sk-toggleable__label-arrow:before {color: black;}#sk-container-id-1 div.sk-toggleable__content {max-height: 0;max-width: 0;overflow: hidden;text-align: left;background-color: #f0f8ff;}#sk-container-id-1 div.sk-toggleable__content pre {margin: 0.2em;color: black;border-radius: 0.25em;background-color: #f0f8ff;}#sk-container-id-1 input.sk-toggleable__control:checked~div.sk-toggleable__content {max-height: 200px;max-width: 100%;overflow: auto;}#sk-container-id-1 input.sk-toggleable__control:checked~label.sk-toggleable__label-arrow:before {content: \"▾\";}#sk-container-id-1 div.sk-estimator input.sk-toggleable__control:checked~label.sk-toggleable__label {background-color: #d4ebff;}#sk-container-id-1 div.sk-label input.sk-toggleable__control:checked~label.sk-toggleable__label {background-color: #d4ebff;}#sk-container-id-1 input.sk-hidden--visually {border: 0;clip: rect(1px 1px 1px 1px);clip: rect(1px, 1px, 1px, 1px);height: 1px;margin: -1px;overflow: hidden;padding: 0;position: absolute;width: 1px;}#sk-container-id-1 div.sk-estimator {font-family: monospace;background-color: #f0f8ff;border: 1px dotted black;border-radius: 0.25em;box-sizing: border-box;margin-bottom: 0.5em;}#sk-container-id-1 div.sk-estimator:hover {background-color: #d4ebff;}#sk-container-id-1 div.sk-parallel-item::after {content: \"\";width: 100%;border-bottom: 1px solid gray;flex-grow: 1;}#sk-container-id-1 div.sk-label:hover label.sk-toggleable__label {background-color: #d4ebff;}#sk-container-id-1 div.sk-serial::before {content: \"\";position: absolute;border-left: 1px solid gray;box-sizing: border-box;top: 0;bottom: 0;left: 50%;z-index: 0;}#sk-container-id-1 div.sk-serial {display: flex;flex-direction: column;align-items: center;background-color: white;padding-right: 0.2em;padding-left: 0.2em;position: relative;}#sk-container-id-1 div.sk-item {position: relative;z-index: 1;}#sk-container-id-1 div.sk-parallel {display: flex;align-items: stretch;justify-content: center;background-color: white;position: relative;}#sk-container-id-1 div.sk-item::before, #sk-container-id-1 div.sk-parallel-item::before {content: \"\";position: absolute;border-left: 1px solid gray;box-sizing: border-box;top: 0;bottom: 0;left: 50%;z-index: -1;}#sk-container-id-1 div.sk-parallel-item {display: flex;flex-direction: column;z-index: 1;position: relative;background-color: white;}#sk-container-id-1 div.sk-parallel-item:first-child::after {align-self: flex-end;width: 50%;}#sk-container-id-1 div.sk-parallel-item:last-child::after {align-self: flex-start;width: 50%;}#sk-container-id-1 div.sk-parallel-item:only-child::after {width: 0;}#sk-container-id-1 div.sk-dashed-wrapped {border: 1px dashed gray;margin: 0 0.4em 0.5em 0.4em;box-sizing: border-box;padding-bottom: 0.4em;background-color: white;}#sk-container-id-1 div.sk-label label {font-family: monospace;font-weight: bold;display: inline-block;line-height: 1.2em;}#sk-container-id-1 div.sk-label-container {text-align: center;}#sk-container-id-1 div.sk-container {/* jupyter's `normalize.less` sets `[hidden] { display: none; }` but bootstrap.min.css set `[hidden] { display: none !important; }` so we also need the `!important` here to be able to override the default hidden behavior on the sphinx rendered scikit-learn.org. See: https://github.com/scikit-learn/scikit-learn/issues/21755 */display: inline-block !important;position: relative;}#sk-container-id-1 div.sk-text-repr-fallback {display: none;}</style><div id=\"sk-container-id-1\" class=\"sk-top-container\"><div class=\"sk-text-repr-fallback\"><pre>Pipeline(steps=[(&#x27;tfidfvectorizer&#x27;, TfidfVectorizer()),\n",
       "                (&#x27;randomforestclassifier&#x27;,\n",
       "                 RandomForestClassifier(random_state=42))])</pre><b>In a Jupyter environment, please rerun this cell to show the HTML representation or trust the notebook. <br />On GitHub, the HTML representation is unable to render, please try loading this page with nbviewer.org.</b></div><div class=\"sk-container\" hidden><div class=\"sk-item sk-dashed-wrapped\"><div class=\"sk-label-container\"><div class=\"sk-label sk-toggleable\"><input class=\"sk-toggleable__control sk-hidden--visually\" id=\"sk-estimator-id-1\" type=\"checkbox\" ><label for=\"sk-estimator-id-1\" class=\"sk-toggleable__label sk-toggleable__label-arrow\">Pipeline</label><div class=\"sk-toggleable__content\"><pre>Pipeline(steps=[(&#x27;tfidfvectorizer&#x27;, TfidfVectorizer()),\n",
       "                (&#x27;randomforestclassifier&#x27;,\n",
       "                 RandomForestClassifier(random_state=42))])</pre></div></div></div><div class=\"sk-serial\"><div class=\"sk-item\"><div class=\"sk-estimator sk-toggleable\"><input class=\"sk-toggleable__control sk-hidden--visually\" id=\"sk-estimator-id-2\" type=\"checkbox\" ><label for=\"sk-estimator-id-2\" class=\"sk-toggleable__label sk-toggleable__label-arrow\">TfidfVectorizer</label><div class=\"sk-toggleable__content\"><pre>TfidfVectorizer()</pre></div></div></div><div class=\"sk-item\"><div class=\"sk-estimator sk-toggleable\"><input class=\"sk-toggleable__control sk-hidden--visually\" id=\"sk-estimator-id-3\" type=\"checkbox\" ><label for=\"sk-estimator-id-3\" class=\"sk-toggleable__label sk-toggleable__label-arrow\">RandomForestClassifier</label><div class=\"sk-toggleable__content\"><pre>RandomForestClassifier(random_state=42)</pre></div></div></div></div></div></div></div>"
      ],
      "text/plain": [
       "Pipeline(steps=[('tfidfvectorizer', TfidfVectorizer()),\n",
       "                ('randomforestclassifier',\n",
       "                 RandomForestClassifier(random_state=42))])"
      ]
     },
     "execution_count": 9,
     "metadata": {},
     "output_type": "execute_result"
    }
   ],
   "source": [
    "# Train the model\n",
    "pipeline.fit(X_train, y_train)"
   ]
  },
  {
   "cell_type": "code",
   "execution_count": 10,
   "id": "af523236",
   "metadata": {},
   "outputs": [],
   "source": [
    "# Evaluate the model\n",
    "y_pred = pipeline.predict(X_test)\n",
    "# print(classification_report(y_test, y_pred))"
   ]
  },
  {
   "cell_type": "code",
   "execution_count": 14,
   "id": "ed206a54",
   "metadata": {},
   "outputs": [],
   "source": [
    "def get_top_k_predictions(model, vectorizer, text, k):\n",
    "    tfidf_matrix = vectorizer.transform([text])\n",
    "    probabilities = model.predict_proba(tfidf_matrix)\n",
    "    top_k_indices = np.argsort(-probabilities[0])[:k]\n",
    "    print(\"Probabilities shape:\", probabilities.shape)\n",
    "    print(\"Top k indices:\", top_k_indices)\n",
    "    return [(model.classes_[i], probabilities[0][i]) for i in top_k_indices]"
   ]
  },
  {
   "cell_type": "code",
   "execution_count": 18,
   "id": "94163f17",
   "metadata": {},
   "outputs": [
    {
     "name": "stdout",
     "output_type": "stream",
     "text": [
      "Enter the problem you're experiencing (e.g., I have stress): what are the symptoms of cold\n",
      "Probabilities shape: (1, 199)\n",
      "Top k indices: [ 80  99  41 176 110  91  92 180  12 161]\n",
      "Predicted symptoms : \n",
      "1. fatigue weakness \n",
      "2. headache \n",
      "3. cough \n",
      "4. sore throat \n",
      "5. irritability \n",
      "6. frequent urination \n",
      "7. frustration \n",
      "8. support groups peer counseling \n",
      "9. biofeedback relaxation techniques manage stress \n",
      "10. resentment \n",
      "Predicted solutions : \n",
      "1.  inhaling steam bowl hot water using humidifier ease nasal congestion improve breathing\n",
      "2.  minimize exposure smoke pollution allergens irritants worsen cold symptoms\n",
      "3.  gargling warm salt water soothe sore throat help reduce inflammation\n",
      "4.  use counter cold medications symptom relief decongestants antihistamines pain relievers\n",
      "5.  relaxation techniques deep breathing mindfulness progressive muscle relaxation calm body mind\n",
      "6.  use insulin injections oral medications metformin drugs help regulate blood sugar levels\n",
      "7.  communication skills training learning assertiveness effective communication techniques express feelings without aggression\n",
      "8.  denial seriousness low body weight\n",
      "9.  visual disturbances aura\n",
      "10.  stress management identifying sources stress developing healthy coping mechanisms reduce anger triggers\n",
      "Enter the problem you're experiencing (e.g., I have stress): exit\n"
     ]
    }
   ],
   "source": [
    "while True:\n",
    "    user_input = input(\"Enter the problem you're experiencing (e.g., I have stress): \")\n",
    "    user_problem = clean_text(user_input)\n",
    "    \n",
    "    if user_input.lower()=='exit':\n",
    "        break\n",
    "    \n",
    "    top_k_predictions = get_top_k_predictions(pipeline.named_steps['randomforestclassifier'], pipeline.named_steps['tfidfvectorizer'], user_problem, k=5)\n",
    "    predicted_symptoms = []\n",
    "    predicted_solutions = []\n",
    "\n",
    "    for pred in top_k_predictions:\n",
    "        if '|' in pred[0]:\n",
    "            symptom, solution = pred[0].split('|', 1)  # Split at the first occurrence of '|'\n",
    "            predicted_symptoms.append(symptom)\n",
    "            predicted_solutions.append(solution)\n",
    "        else:\n",
    "            predicted_symptoms.append(pred[0])\n",
    "\n",
    "    # Take only the top 5 predicted symptoms and solutions\n",
    "    predicted_symptoms = predicted_symptoms[:5]\n",
    "    predicted_solutions = predicted_solutions[:5]\n",
    "    \n",
    "    # Print the predictions\n",
    "    print(\"Predicted symptoms : \")\n",
    "    for i in range(1,len(predicted_symptoms)+1):\n",
    "        print(f'{i}. {predicted_symptoms[i-1]}')\n",
    "    print(\"Predicted solutions : \")\n",
    "    for i in range(1,len(predicted_solutions)+1):\n",
    "        print(f'{i}. {predicted_solutions[i-1]}')"
   ]
  },
  {
   "cell_type": "code",
   "execution_count": null,
   "id": "8f2dab85",
   "metadata": {},
   "outputs": [],
   "source": []
  }
 ],
 "metadata": {
  "kernelspec": {
   "display_name": "Python 3 (ipykernel)",
   "language": "python",
   "name": "python3"
  },
  "language_info": {
   "codemirror_mode": {
    "name": "ipython",
    "version": 3
   },
   "file_extension": ".py",
   "mimetype": "text/x-python",
   "name": "python",
   "nbconvert_exporter": "python",
   "pygments_lexer": "ipython3",
   "version": "3.11.5"
  }
 },
 "nbformat": 4,
 "nbformat_minor": 5
}
